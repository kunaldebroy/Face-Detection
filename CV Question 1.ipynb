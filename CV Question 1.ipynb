{
 "cells": [
  {
   "cell_type": "code",
   "execution_count": 125,
   "id": "ab4e5f70-8358-4ece-a6be-beed2e1cb5b2",
   "metadata": {},
   "outputs": [],
   "source": [
    "import cv2\n",
    "import numpy as np\n",
    "img_file='shapes.png'\n",
    "image = cv2.imread(img_file)\n",
    "gray_img = cv2.cvtColor(image, cv2.COLOR_BGR2GRAY)"
   ]
  },
  {
   "cell_type": "code",
   "execution_count": 126,
   "id": "819ff71e-a60e-4276-89c7-953c25b93e0d",
   "metadata": {},
   "outputs": [],
   "source": [
    "#gauskernel = (3, 3)\n",
    "#blurimage = cv2.GaussianBlur(gray_img, gauskernel, 0)\n",
    "kx = np.array([[-1, 0, 1], [-2, 0, 2], [-1, 0, 1]], dtype=np.float64)\n",
    "ky = np.array([[-1, -2, -1], [0, 0, 0], [1, 2, 1]], dtype=np.float64)"
   ]
  },
  {
   "cell_type": "code",
   "execution_count": 127,
   "id": "154ce4fe-6520-4797-aa55-e2f200239f9f",
   "metadata": {},
   "outputs": [],
   "source": [
    "def compute_gradient_magnitude(gr_im, kx, ky):\n",
    "    gx = cv2.filter2D(gr_im,cv2.CV_64F,kx)\n",
    "    gy = cv2.filter2D(gr_im,cv2.CV_64F,ky)\n",
    "    magnitude = np.sqrt((gx*gx)+(gy*gy))\n",
    "    return magnitude.astype(np.float64)"
   ]
  },
  {
   "cell_type": "code",
   "execution_count": 128,
   "id": "64d8176c-1621-4c01-ab28-3054dccf4186",
   "metadata": {},
   "outputs": [],
   "source": [
    "def compute_gradient_direction(gr_im, kx, ky):\n",
    "    gx = cv2.filter2D(gr_im,cv2.CV_64F,kx)\n",
    "    gy = cv2.filter2D(gr_im,cv2.CV_64F,ky)\n",
    "    direction = np.arctan2(gy, gx)\n",
    "    return direction.astype(np.float64)"
   ]
  },
  {
   "cell_type": "code",
   "execution_count": 129,
   "id": "874880bd-646a-4e8e-a509-bac43e9bb4cb",
   "metadata": {},
   "outputs": [],
   "source": [
    "gradient_magnitude = compute_gradient_magnitude(gray_img, kx, ky)\n",
    "gradient_direction = compute_gradient_direction(gray_img, kx, ky)"
   ]
  },
  {
   "cell_type": "code",
   "execution_count": 130,
   "id": "5e949765-a98a-49aa-bd49-646d1b6f0396",
   "metadata": {},
   "outputs": [
    {
     "data": {
      "text/plain": [
       "((720, 720), (720, 720))"
      ]
     },
     "execution_count": 130,
     "metadata": {},
     "output_type": "execute_result"
    }
   ],
   "source": [
    "(gradient_magnitude.shape, gradient_direction.shape)"
   ]
  },
  {
   "cell_type": "code",
   "execution_count": 131,
   "id": "9e422442-551d-41c9-8392-449158621f64",
   "metadata": {},
   "outputs": [
    {
     "data": {
      "text/plain": [
       "(720, 720)"
      ]
     },
     "execution_count": 131,
     "metadata": {},
     "output_type": "execute_result"
    }
   ],
   "source": [
    "(gray_img.shape)"
   ]
  },
  {
   "cell_type": "code",
   "execution_count": 132,
   "id": "9c96c1cf-bf3c-40d1-8aa1-19bcd00acbe8",
   "metadata": {},
   "outputs": [
    {
     "data": {
      "text/plain": [
       "array([12.72792206, 18.        , 12.72792206, ..., 27.78488798,\n",
       "       33.37663854, 19.79898987])"
      ]
     },
     "execution_count": 132,
     "metadata": {},
     "output_type": "execute_result"
    }
   ],
   "source": [
    "gradient_magnitude[gradient_magnitude > 1]"
   ]
  },
  {
   "cell_type": "code",
   "execution_count": 133,
   "id": "9dadadc7-a422-4d04-9c30-ddc15e48fc9e",
   "metadata": {},
   "outputs": [
    {
     "data": {
      "text/plain": [
       "array([1.57079633, 2.35619449, 1.23787305, ..., 3.1062092 , 3.09212808,\n",
       "       3.07502449])"
      ]
     },
     "execution_count": 133,
     "metadata": {},
     "output_type": "execute_result"
    }
   ],
   "source": [
    "gradient_direction[gradient_direction > 1]"
   ]
  },
  {
   "cell_type": "code",
   "execution_count": null,
   "id": "bebff7b1-4e2c-41d1-bf0b-19b27946c0f2",
   "metadata": {},
   "outputs": [],
   "source": []
  }
 ],
 "metadata": {
  "kernelspec": {
   "display_name": "Python 3 (ipykernel)",
   "language": "python",
   "name": "python3"
  },
  "language_info": {
   "codemirror_mode": {
    "name": "ipython",
    "version": 3
   },
   "file_extension": ".py",
   "mimetype": "text/x-python",
   "name": "python",
   "nbconvert_exporter": "python",
   "pygments_lexer": "ipython3",
   "version": "3.11.5"
  }
 },
 "nbformat": 4,
 "nbformat_minor": 5
}
