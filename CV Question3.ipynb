{
 "cells": [
  {
   "cell_type": "code",
   "execution_count": 4,
   "id": "20fee3ad-af50-4470-8202-4760e4efd57a",
   "metadata": {},
   "outputs": [],
   "source": [
    "import numpy as np\n",
    "def compute_rotation_matrix(points, theta):    \n",
    "    # Convert theta from degrees to radians\n",
    "    theta_rad = np.deg2rad(theta)\n",
    "    # Compute the centroid of the points\n",
    "    centroid = np.mean(points, axis=0)\n",
    "    # Compute the translation matrices\n",
    "    translation_to_origin = np.array([[1, 0, -centroid[0]],[0, 1, -centroid[1]],[0, 0, 1]])                                     \n",
    "    translation_back = np.array([[1, 0, centroid[0]],[0, 1, centroid[1]],[0, 0, 1]])                                \n",
    "    # Compute the rotation matrix around the origin\n",
    "    rotation = np.array([[np.cos(theta_rad), -np.sin(theta_rad), 0],[np.sin(theta_rad), np.cos(theta_rad), 0],[0, 0, 1]]) \n",
    "    # Compute the complete rotation matrix about the centroid of the shape\n",
    "    rotation_matrix = np.dot(np.dot(translation_back, rotation), translation_to_origin)\n",
    "    return rotation_matrix\n"
   ]
  },
  {
   "cell_type": "code",
   "execution_count": 5,
   "id": "e5340422-5635-42d9-b84c-af45a1136b79",
   "metadata": {},
   "outputs": [
    {
     "name": "stdout",
     "output_type": "stream",
     "text": [
      "[[   0.70710678   -0.70710678  643.61612368]\n",
      " [   0.70710678    0.70710678 -153.24637476]\n",
      " [   0.            0.            1.        ]]\n"
     ]
    }
   ],
   "source": [
    "# Load the numpy array from the provided file\n",
    "points = np.load('points.npy')\n",
    "# Assuming theta is 45 degrees for demonstration\n",
    "theta = 45\n",
    "# Compute the rotation matrix for the points with the given theta\n",
    "rotation_matrix = compute_rotation_matrix(points, theta)\n",
    "# Displaying the rotation matrix\n",
    "print(rotation_matrix)"
   ]
  }
 ],
 "metadata": {
  "kernelspec": {
   "display_name": "Python 3 (ipykernel)",
   "language": "python",
   "name": "python3"
  },
  "language_info": {
   "codemirror_mode": {
    "name": "ipython",
    "version": 3
   },
   "file_extension": ".py",
   "mimetype": "text/x-python",
   "name": "python",
   "nbconvert_exporter": "python",
   "pygments_lexer": "ipython3",
   "version": "3.11.5"
  }
 },
 "nbformat": 4,
 "nbformat_minor": 5
}
