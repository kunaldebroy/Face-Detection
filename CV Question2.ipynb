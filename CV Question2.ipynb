{
 "cells": [
  {
   "cell_type": "code",
   "execution_count": 9,
   "id": "34383641-31c3-42ea-a3fc-b67d3a595c40",
   "metadata": {},
   "outputs": [],
   "source": [
    "import cv2\n",
    "import numpy as np\n",
    "from sklearn.cluster import KMeans\n",
    "from sklearn.preprocessing import StandardScaler\n",
    "def readImage(img_path):\n",
    "    img = cv2.imread(img_path, cv2.IMREAD_GRAYSCALE)\n",
    "    return cv2.resize(img, (150, 150))"
   ]
  },
  {
   "cell_type": "code",
   "execution_count": 10,
   "id": "d4e08981-9cf8-4559-a44c-8dce2fac45ab",
   "metadata": {},
   "outputs": [],
   "source": [
    "def getDescriptors(sift, img):\n",
    "    location, des = sift.detectAndCompute(img, None)\n",
    "    return location, des"
   ]
  },
  {
   "cell_type": "code",
   "execution_count": 11,
   "id": "e0fc5a1d-62a4-44e1-9618-36e8083a12f8",
   "metadata": {},
   "outputs": [],
   "source": [
    "def vstackDescriptors(descriptor_list):\n",
    "    descriptors = np.array(descriptor_list[0])\n",
    "    for descriptor in descriptor_list[1:]:\n",
    "        descriptors = np.vstack((descriptors, descriptor)) \n",
    "    return descriptors"
   ]
  },
  {
   "cell_type": "code",
   "execution_count": 12,
   "id": "f7befaff-5b23-410c-8ae5-86921cb1e880",
   "metadata": {},
   "outputs": [],
   "source": [
    "def clusterDescriptors(descriptors, no_clusters):\n",
    "    kmeans = KMeans(n_clusters=no_clusters, random_state=0).fit(descriptors)\n",
    "    return kmeans"
   ]
  },
  {
   "cell_type": "code",
   "execution_count": 13,
   "id": "34189478-9178-4057-b0a8-4b3ff683c6fa",
   "metadata": {},
   "outputs": [],
   "source": [
    "def generate_bovw_spatial_histogram(im, location, kmeans, division):\n",
    "    Y_div, X_div = division\n",
    "    height, width = im.shape[:2]\n",
    "    hist_bins = kmeans.n_clusters\n",
    "    spatial_hist = np.zeros((Y_div * X_div, hist_bins))    \n",
    "    div_height = height / Y_div\n",
    "    div_width = width / X_div    \n",
    "    for point, descriptor in zip(kp, kmeans.labels_):\n",
    "        y, x = point.pt\n",
    "        div_y = int(y // div_height)\n",
    "        div_x = int(x // div_width)\n",
    "        div_index = div_y * X_div + div_x\n",
    "        spatial_hist[div_index, descriptor] += 1        \n",
    "    return spatial_hist.flatten()"
   ]
  },
  {
   "cell_type": "code",
   "execution_count": 14,
   "id": "4fb381ea-5248-4288-89d5-56a17e25e103",
   "metadata": {},
   "outputs": [
    {
     "name": "stderr",
     "output_type": "stream",
     "text": [
      "C:\\Users\\kunal\\anaconda3\\Lib\\site-packages\\sklearn\\cluster\\_kmeans.py:1416: FutureWarning: The default value of `n_init` will change from 10 to 'auto' in 1.4. Set the value of `n_init` explicitly to suppress the warning\n",
      "  super()._check_params_vs_input(X, default_n_init=10)\n",
      "C:\\Users\\kunal\\anaconda3\\Lib\\site-packages\\sklearn\\cluster\\_kmeans.py:1440: UserWarning: KMeans is known to have a memory leak on Windows with MKL, when there are less chunks than available threads. You can avoid it by setting the environment variable OMP_NUM_THREADS=1.\n",
      "  warnings.warn(\n"
     ]
    },
    {
     "ename": "NameError",
     "evalue": "name 'kp' is not defined",
     "output_type": "error",
     "traceback": [
      "\u001b[1;31m---------------------------------------------------------------------------\u001b[0m",
      "\u001b[1;31mNameError\u001b[0m                                 Traceback (most recent call last)",
      "Cell \u001b[1;32mIn[14], line 16\u001b[0m\n\u001b[0;32m     14\u001b[0m Test2 \u001b[38;5;241m=\u001b[39m [\u001b[38;5;241m2\u001b[39m, \u001b[38;5;241m2\u001b[39m]\n\u001b[0;32m     15\u001b[0m Test3 \u001b[38;5;241m=\u001b[39m [\u001b[38;5;241m2\u001b[39m, \u001b[38;5;241m3\u001b[39m]\n\u001b[1;32m---> 16\u001b[0m histogram_coarse \u001b[38;5;241m=\u001b[39m generate_bovw_spatial_histogram(image, location, kmeans, Test1)\n\u001b[0;32m     17\u001b[0m histogram_medium \u001b[38;5;241m=\u001b[39m generate_bovw_spatial_histogram(image, location, kmeans, Test2)\n\u001b[0;32m     18\u001b[0m histogram_fine \u001b[38;5;241m=\u001b[39m generate_bovw_spatial_histogram(image, location, kmeans, Test3)\n",
      "Cell \u001b[1;32mIn[13], line 8\u001b[0m, in \u001b[0;36mgenerate_bovw_spatial_histogram\u001b[1;34m(im, location, kmeans, division)\u001b[0m\n\u001b[0;32m      6\u001b[0m div_height \u001b[38;5;241m=\u001b[39m height \u001b[38;5;241m/\u001b[39m Y_div\n\u001b[0;32m      7\u001b[0m div_width \u001b[38;5;241m=\u001b[39m width \u001b[38;5;241m/\u001b[39m X_div    \n\u001b[1;32m----> 8\u001b[0m \u001b[38;5;28;01mfor\u001b[39;00m point, descriptor \u001b[38;5;129;01min\u001b[39;00m \u001b[38;5;28mzip\u001b[39m(kp, kmeans\u001b[38;5;241m.\u001b[39mlabels_):\n\u001b[0;32m      9\u001b[0m     y, x \u001b[38;5;241m=\u001b[39m point\u001b[38;5;241m.\u001b[39mpt\n\u001b[0;32m     10\u001b[0m     div_y \u001b[38;5;241m=\u001b[39m \u001b[38;5;28mint\u001b[39m(y \u001b[38;5;241m/\u001b[39m\u001b[38;5;241m/\u001b[39m div_height)\n",
      "\u001b[1;31mNameError\u001b[0m: name 'kp' is not defined"
     ]
    }
   ],
   "source": [
    "# Simulated process\n",
    "image_path = 'shapes.png' \n",
    "image = readImage(image_path)\n",
    "sift = cv2.SIFT_create()\n",
    "# calling descriptors\n",
    "location, descriptors = getDescriptors(sift, image)\n",
    "# calling function for clustering\n",
    "descriptors_flat = np.array(descriptors).reshape(-1, 128)\n",
    "# Perform KMeans clustering\n",
    "num_clusters = 10  \n",
    "kmeans = clusterDescriptors(descriptors_flat, num_clusters)\n",
    "# Generate spatial histograms for test cases\n",
    "Test1 = [1, 1]\n",
    "Test2 = [2, 2]\n",
    "Test3 = [2, 3]\n",
    "histogram_coarse = generate_bovw_spatial_histogram(image, location, kmeans, Test1)\n",
    "histogram_medium = generate_bovw_spatial_histogram(image, location, kmeans, Test2)\n",
    "histogram_fine = generate_bovw_spatial_histogram(image, location, kmeans, Test3)\n",
    "print(\"For 1,1\")\n",
    "print(histogram_coarse)\n",
    "print(\"For 2,2\")\n",
    "print(histogram_medium)\n",
    "print(\"For 2,3\")\n",
    "print(histogram_fine)"
   ]
  },
  {
   "cell_type": "code",
   "execution_count": null,
   "id": "c3c59474-0186-4133-936f-b24d7311f150",
   "metadata": {},
   "outputs": [],
   "source": []
  },
  {
   "cell_type": "code",
   "execution_count": null,
   "id": "dabc62bb-5a96-49eb-bf9b-dc5c9608dc16",
   "metadata": {},
   "outputs": [],
   "source": []
  }
 ],
 "metadata": {
  "kernelspec": {
   "display_name": "Python 3 (ipykernel)",
   "language": "python",
   "name": "python3"
  },
  "language_info": {
   "codemirror_mode": {
    "name": "ipython",
    "version": 3
   },
   "file_extension": ".py",
   "mimetype": "text/x-python",
   "name": "python",
   "nbconvert_exporter": "python",
   "pygments_lexer": "ipython3",
   "version": "3.11.5"
  }
 },
 "nbformat": 4,
 "nbformat_minor": 5
}
