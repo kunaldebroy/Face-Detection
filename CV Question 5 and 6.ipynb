{
 "cells": [
  {
   "cell_type": "code",
   "execution_count": null,
   "id": "8c067f02-8e0a-4f43-8bb9-21281ee5a41f",
   "metadata": {},
   "outputs": [],
   "source": [
    "# QUESTION 5"
   ]
  },
  {
   "cell_type": "code",
   "execution_count": 34,
   "id": "50e3bf53-d584-4f12-ab00-961cb614534c",
   "metadata": {},
   "outputs": [
    {
     "name": "stdout",
     "output_type": "stream",
     "text": [
      "Accuracy of the model on the validation images: 65.35%\n",
      "[0 0 0 ... 9 9 8]\n"
     ]
    }
   ],
   "source": [
    "import torch\n",
    "import torch.nn as nn\n",
    "import torchvision.transforms as transforms\n",
    "import torchvision.datasets as datasets\n",
    "from torch.utils.data import DataLoader\n",
    "from ca_utils import ResNet, BasicBlock\n",
    "import numpy as np\n",
    "\n",
    "# Define the model\n",
    "num_classes = 10\n",
    "model = ResNet(BasicBlock, [1,1,1], num_classes=num_classes)\n",
    "model.fc = nn.Linear(model.fc.in_features, num_classes)\n",
    "\n",
    "# Load the saved model weights\n",
    "model_path = 'Desktop/weights_resnet (1).pth'\n",
    "model.load_state_dict(torch.load(model_path, map_location=torch.device('cpu')))\n",
    "\n",
    "# Move the model to the appropriate device\n",
    "device = torch.device(\"cuda\" if torch.cuda.is_available() else \"cpu\")\n",
    "model.to(device)\n",
    "model.eval() \n",
    "\n",
    "# Define transformations for the validation set\n",
    "transform = transforms.Compose([\n",
    "    transforms.Resize((224, 224)),\n",
    "    transforms.ToTensor(),\n",
    "    transforms.Normalize(mean=[0.485, 0.456, 0.406], std=[0.229, 0.224, 0.225]),\n",
    "])\n",
    "\n",
    "# Load the validation dataset\n",
    "val_dataset = datasets.ImageFolder(root='Desktop/val', transform=transform)\n",
    "val_loader = DataLoader(val_dataset, batch_size=64, shuffle=False)\n",
    "\n",
    "# Define the test_cnn function to evaluate the model\n",
    "def test_cnn(model, val_loader):\n",
    "    model.eval() \n",
    "    correct = 0\n",
    "    total = 0\n",
    "    predictions = []\n",
    "\n",
    "    with torch.no_grad():\n",
    "        for data, target in val_loader:\n",
    "            data, target = data.to(device), target.to(device)\n",
    "            outputs = model(data)\n",
    "            _, predicted = torch.max(outputs.data, 1)\n",
    "            total += target.size(0)\n",
    "            correct += (predicted == target).sum().item()\n",
    "            predictions.extend(predicted.cpu().numpy())\n",
    "\n",
    "    accuracy = correct / total\n",
    "    return np.array(predictions, dtype=np.int64), accuracy\n",
    "\n",
    "# Run the test_cnn function and print the accuracy\n",
    "predictions, accuracy = test_cnn(model, val_loader)\n",
    "print(f'Accuracy of the model on the validation images: {accuracy * 100:.2f}%')\n",
    "print (predictions)\n"
   ]
  },
  {
   "cell_type": "code",
   "execution_count": null,
   "id": "58fc7317-38b9-4487-9ff9-b892d98ae301",
   "metadata": {},
   "outputs": [],
   "source": [
    "# QUESTION 6"
   ]
  },
  {
   "cell_type": "code",
   "execution_count": 35,
   "id": "9f4d164a-772d-4500-8f6c-aa4c72a32063",
   "metadata": {},
   "outputs": [],
   "source": [
    "import torch\n",
    "\n",
    "true_labels = []\n",
    "for _, labels in val_loader:\n",
    "    true_labels.extend(labels.tolist())\n",
    "true_labels_array = torch.tensor(true_labels)"
   ]
  },
  {
   "cell_type": "code",
   "execution_count": 36,
   "id": "25a32df6-fbeb-4517-933e-7b7bb3af5bd9",
   "metadata": {},
   "outputs": [
    {
     "name": "stdout",
     "output_type": "stream",
     "text": [
      "[[163  10  11   0   1   0   1   0   7   7]\n",
      " [ 14 116   1  16  11  13   2  26   0   1]\n",
      " [  1   3 170   0   0   0   4   0   0  22]\n",
      " [  1  23   2  80  29  21   8  34   1   1]\n",
      " [  2  13   0  14 110   9  24  26   1   1]\n",
      " [  0   8   0  20  23  74  34  40   0   1]\n",
      " [  1   3   2   2  12  21 151   7   0   1]\n",
      " [  0  12   0   9  13  18   4 144   0   0]\n",
      " [ 16   4   2   2   0   1   0   0 150  25]\n",
      " [  5   0  23   3   1   0   7   0  12 149]]\n"
     ]
    }
   ],
   "source": [
    "def compute_confusion_matrix(true, predictions):\n",
    "\n",
    "\n",
    "    # Identify unique classes\n",
    "    classes = np.unique(np.concatenate((true, predictions)))\n",
    "    num_classes = len(classes)\n",
    "    \n",
    "    # Create mapping of class labels to indices\n",
    "    class_to_index = dict((c, i) for i, c in enumerate(classes))\n",
    "    \n",
    "    # Initialize the confusion matrix\n",
    "    confusion_matrix = np.zeros((num_classes, num_classes), dtype=int)\n",
    "    \n",
    "    # Populate the confusion matrix\n",
    "    for t, p in zip(true, predictions):\n",
    "        true_index = class_to_index[t]\n",
    "        pred_index = class_to_index[p]\n",
    "        confusion_matrix[true_index, pred_index] += 1\n",
    "\n",
    "    return confusion_matrix\n",
    "\n",
    "cm = compute_confusion_matrix(true_labels, predictions)\n",
    "print(cm)"
   ]
  },
  {
   "cell_type": "code",
   "execution_count": null,
   "id": "d9a845e6-9026-4ebe-8e31-dbb44b29b89e",
   "metadata": {},
   "outputs": [],
   "source": []
  }
 ],
 "metadata": {
  "kernelspec": {
   "display_name": "Python 3 (ipykernel)",
   "language": "python",
   "name": "python3"
  },
  "language_info": {
   "codemirror_mode": {
    "name": "ipython",
    "version": 3
   },
   "file_extension": ".py",
   "mimetype": "text/x-python",
   "name": "python",
   "nbconvert_exporter": "python",
   "pygments_lexer": "ipython3",
   "version": "3.11.5"
  }
 },
 "nbformat": 4,
 "nbformat_minor": 5
}
